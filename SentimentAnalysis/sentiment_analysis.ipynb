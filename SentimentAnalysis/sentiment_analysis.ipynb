{
 "cells": [
  {
   "cell_type": "code",
   "execution_count": 3,
   "metadata": {},
   "outputs": [],
   "source": [
    "import pandas as pd\n",
    "import numpy as np"
   ]
  },
  {
   "cell_type": "code",
   "execution_count": 8,
   "metadata": {},
   "outputs": [
    {
     "data": {
      "text/html": [
       "<div>\n",
       "<style scoped>\n",
       "    .dataframe tbody tr th:only-of-type {\n",
       "        vertical-align: middle;\n",
       "    }\n",
       "\n",
       "    .dataframe tbody tr th {\n",
       "        vertical-align: top;\n",
       "    }\n",
       "\n",
       "    .dataframe thead th {\n",
       "        text-align: right;\n",
       "    }\n",
       "</style>\n",
       "<table border=\"1\" class=\"dataframe\">\n",
       "  <thead>\n",
       "    <tr style=\"text-align: right;\">\n",
       "      <th></th>\n",
       "      <th>Datetime</th>\n",
       "      <th>News</th>\n",
       "      <th>Link</th>\n",
       "    </tr>\n",
       "  </thead>\n",
       "  <tbody>\n",
       "    <tr>\n",
       "      <th>0</th>\n",
       "      <td>2024-01-01</td>\n",
       "      <td>disney marathon how to register and qualify ch...</td>\n",
       "      <td>https://economictimes.indiatimes.com/news/inte...</td>\n",
       "    </tr>\n",
       "    <tr>\n",
       "      <th>1</th>\n",
       "      <td>2024-01-01</td>\n",
       "      <td>bharti airtel services to acquire 97 1 stake i...</td>\n",
       "      <td>https://economictimes.indiatimes.com/industry/...</td>\n",
       "    </tr>\n",
       "    <tr>\n",
       "      <th>2</th>\n",
       "      <td>2024-01-01</td>\n",
       "      <td>fallout 76 nuke codes launch site locations he...</td>\n",
       "      <td>https://economictimes.indiatimes.com/news/inte...</td>\n",
       "    </tr>\n",
       "    <tr>\n",
       "      <th>3</th>\n",
       "      <td>2024-01-01</td>\n",
       "      <td>is retirement on your list in 2024 here are de...</td>\n",
       "      <td>https://economictimes.indiatimes.com/news/inte...</td>\n",
       "    </tr>\n",
       "    <tr>\n",
       "      <th>4</th>\n",
       "      <td>2024-01-01</td>\n",
       "      <td>raise a glass to gift city why the recent amen...</td>\n",
       "      <td>https://economictimes.indiatimes.com/opinion/e...</td>\n",
       "    </tr>\n",
       "  </tbody>\n",
       "</table>\n",
       "</div>"
      ],
      "text/plain": [
       "     Datetime                                               News  \\\n",
       "0  2024-01-01  disney marathon how to register and qualify ch...   \n",
       "1  2024-01-01  bharti airtel services to acquire 97 1 stake i...   \n",
       "2  2024-01-01  fallout 76 nuke codes launch site locations he...   \n",
       "3  2024-01-01  is retirement on your list in 2024 here are de...   \n",
       "4  2024-01-01  raise a glass to gift city why the recent amen...   \n",
       "\n",
       "                                                Link  \n",
       "0  https://economictimes.indiatimes.com/news/inte...  \n",
       "1  https://economictimes.indiatimes.com/industry/...  \n",
       "2  https://economictimes.indiatimes.com/news/inte...  \n",
       "3  https://economictimes.indiatimes.com/news/inte...  \n",
       "4  https://economictimes.indiatimes.com/opinion/e...  "
      ]
     },
     "execution_count": 8,
     "metadata": {},
     "output_type": "execute_result"
    }
   ],
   "source": [
    "dataFrame = pd.read_csv(\"../Data Collection/data.csv\")\n",
    "\n",
    "dataFrame.head(5)"
   ]
  },
  {
   "cell_type": "code",
   "execution_count": null,
   "metadata": {},
   "outputs": [],
   "source": []
  }
 ],
 "metadata": {
  "kernelspec": {
   "display_name": "Python 3",
   "language": "python",
   "name": "python3"
  },
  "language_info": {
   "codemirror_mode": {
    "name": "ipython",
    "version": 3
   },
   "file_extension": ".py",
   "mimetype": "text/x-python",
   "name": "python",
   "nbconvert_exporter": "python",
   "pygments_lexer": "ipython3",
   "version": "3.10.11"
  }
 },
 "nbformat": 4,
 "nbformat_minor": 2
}
